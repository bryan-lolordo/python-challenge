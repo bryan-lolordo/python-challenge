{
 "cells": [
  {
   "cell_type": "code",
   "execution_count": 1,
   "id": "7cbf8593",
   "metadata": {},
   "outputs": [],
   "source": [
    "# import necessary dependencies\n",
    "import os\n",
    "import csv"
   ]
  },
  {
   "cell_type": "code",
   "execution_count": 4,
   "id": "579aba83",
   "metadata": {},
   "outputs": [],
   "source": [
    "# create path\n",
    "pybank_csv = os.path.join('Resources/budget_data.csv')"
   ]
  },
  {
   "cell_type": "code",
   "execution_count": 5,
   "id": "d902d819",
   "metadata": {},
   "outputs": [
    {
     "data": {
      "text/plain": [
       "'Resources/budget_data.csv'"
      ]
     },
     "execution_count": 5,
     "metadata": {},
     "output_type": "execute_result"
    }
   ],
   "source": [
    "pybank_csv"
   ]
  },
  {
   "cell_type": "code",
   "execution_count": 6,
   "id": "905d2cd8",
   "metadata": {},
   "outputs": [],
   "source": [
    "total_months = 0\n",
    "net_change = []\n",
    "month_change = []\n",
    "total_net = 0\n",
    "greatest_increase = [\"\", 0]\n",
    "greatest_decrease = [\"\", 99999999]"
   ]
  },
  {
   "cell_type": "code",
   "execution_count": 7,
   "id": "ea58c526",
   "metadata": {},
   "outputs": [
    {
     "ename": "IndexError",
     "evalue": "list index out of range",
     "output_type": "error",
     "traceback": [
      "\u001b[1;31m---------------------------------------------------------------------------\u001b[0m",
      "\u001b[1;31mIndexError\u001b[0m                                Traceback (most recent call last)",
      "Cell \u001b[1;32mIn[7], line 10\u001b[0m\n\u001b[0;32m      8\u001b[0m \u001b[38;5;66;03m#     total_months = total_months + 1\u001b[39;00m\n\u001b[0;32m      9\u001b[0m     total_months \u001b[38;5;241m+\u001b[39m\u001b[38;5;241m=\u001b[39m \u001b[38;5;241m1\u001b[39m\n\u001b[1;32m---> 10\u001b[0m     total_net \u001b[38;5;241m+\u001b[39m\u001b[38;5;241m=\u001b[39m \u001b[38;5;28mint\u001b[39m(first_row[\u001b[38;5;241m1\u001b[39m])\n\u001b[0;32m     11\u001b[0m     previous_net \u001b[38;5;241m=\u001b[39m \u001b[38;5;28mint\u001b[39m(first_row[\u001b[38;5;241m1\u001b[39m])\n",
      "\u001b[1;31mIndexError\u001b[0m: list index out of range"
     ]
    }
   ],
   "source": [
    "with open(pybank_csv):\n",
    "    csvreader = csv.reader(pybank_csv, delimiter = ',')\n",
    "    \n",
    "    header = next(csvreader)\n",
    "    \n",
    "    first_row = next(csvreader)\n",
    "    \n",
    "#     total_months = total_months + 1\n",
    "    total_months += 1\n",
    "    total_net += int(first_row[1])\n",
    "    previous_net = int(first_row[1])\n",
    "    \n",
    "    for r in csvreader:\n",
    "        total_months += 1\n",
    "        total_net += int(r[1])\n",
    "#       first 2 lines tracking total, next track net change using previous variables, calculate greatest increase/dec by using\n",
    "#  month change and net change. then calculate average "
   ]
  },
  {
   "cell_type": "code",
   "execution_count": null,
   "id": "0f45a9bd",
   "metadata": {},
   "outputs": [],
   "source": []
  }
 ],
 "metadata": {
  "kernelspec": {
   "display_name": "Python 3 (ipykernel)",
   "language": "python",
   "name": "python3"
  },
  "language_info": {
   "codemirror_mode": {
    "name": "ipython",
    "version": 3
   },
   "file_extension": ".py",
   "mimetype": "text/x-python",
   "name": "python",
   "nbconvert_exporter": "python",
   "pygments_lexer": "ipython3",
   "version": "3.11.4"
  }
 },
 "nbformat": 4,
 "nbformat_minor": 5
}

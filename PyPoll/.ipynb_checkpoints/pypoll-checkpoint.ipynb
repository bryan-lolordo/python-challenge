{
 "cells": [
  {
   "cell_type": "code",
   "execution_count": 1,
   "id": "e0a3334e",
   "metadata": {},
   "outputs": [],
   "source": [
    "# import necessary dependencies\n",
    "import os\n",
    "import csv"
   ]
  },
  {
   "cell_type": "code",
   "execution_count": 2,
   "id": "d53243de",
   "metadata": {},
   "outputs": [
    {
     "data": {
      "text/plain": [
       "'.\\\\Resources\\\\election_data.csv'"
      ]
     },
     "execution_count": 2,
     "metadata": {},
     "output_type": "execute_result"
    }
   ],
   "source": [
    "#files to load and output\n",
    "pypoll_csv = os.path.join('.', 'Resources', 'election_data.csv')\n",
    "\n",
    "pypoll_output = os.path.join('.', 'election_analysis.txt')\n",
    "\n",
    "pypoll_csv"
   ]
  },
  {
   "cell_type": "code",
   "execution_count": 3,
   "id": "aa7c8287",
   "metadata": {},
   "outputs": [],
   "source": [
    "total_votes = 0\n",
    "candidate_votes = {}\n",
    "candidate_options = []\n",
    "winner = \"\"\n",
    "win_count = 0"
   ]
  },
  {
   "cell_type": "code",
   "execution_count": 5,
   "id": "8f1d2d46",
   "metadata": {},
   "outputs": [
    {
     "name": "stdout",
     "output_type": "stream",
     "text": [
      "Election Results\n",
      "-------------------\n",
      "Total Votes: 739422\n",
      "-------------------\n",
      "\n",
      "Charles Casper Stockham: 23.049% (170426)\n",
      "\n",
      "Diana DeGette: 73.812% (545784)\n",
      "\n",
      "Raymon Anthony Doane: 3.139% (23212)\n",
      "\n",
      "-------------------\n",
      "Winner: Diana DeGette\n",
      "-------------------\n",
      "\n"
     ]
    }
   ],
   "source": [
    "with open(pypoll_csv) as election_data:\n",
    "\n",
    "    reader = csv.reader(election_data)\n",
    "\n",
    "    #sets header as Ballot ID, County, Candidate\n",
    "    header = next(reader)\n",
    "#     print(header)\n",
    "        \n",
    "    #loops through reader to count the total rows \n",
    "    for row in reader:\n",
    "\n",
    "        total_votes = total_votes + 1\n",
    "        \n",
    "        #gets candidate's name from each row\n",
    "        candidate_name = row[2]\n",
    "        \n",
    "        #if candidate does not match any existing candidate\n",
    "        #in a way our loop is discovering candidates as it goes\n",
    "        \n",
    "        if candidate_name not in candidate_options:\n",
    "            \n",
    "            #add to list of candidates in the running\n",
    "            candidate_options.append(candidate_name)\n",
    "            \n",
    "            candidate_votes[candidate_name] = 0\n",
    "            \n",
    "        candidate_votes[candidate_name] += 1\n",
    "                   \n",
    "# print(candidate_votes)           \n",
    "# print(candidate_options)\n",
    "# print(total_votes)        \n",
    "\n",
    "\n",
    "    \n",
    "    \n",
    "\n",
    "with open(pypoll_output, \"w\") as txt_file:\n",
    "    output = (\n",
    "    f\"Election Results\\n\"\n",
    "    f\"-------------------\\n\"\n",
    "    f\"Total Votes: {total_votes}\\n\"\n",
    "    f\"-------------------\\n\"\n",
    "    )\n",
    "    print(output)  \n",
    "    txt_file.write(output)\n",
    "\n",
    "    for candidate in candidate_votes:\n",
    "        votes = candidate_votes[candidate]\n",
    "        vote_percentage = float(votes) / float(total_votes) * 100\n",
    "    \n",
    "        if(votes > win_count):\n",
    "            win_count = votes\n",
    "            winner = candidate\n",
    "        \n",
    "        voter_output = f\"{candidate}: {vote_percentage:.3f}% ({votes})\\n\"\n",
    "\n",
    "        # print(votes)\n",
    "        # print(vote_percentage)\n",
    "        # print(winning_candidate) \n",
    "        print(voter_output)\n",
    "        txt_file.write(voter_output)\n",
    "\n",
    "\n",
    "    winning_candidate_summary = (\n",
    "        f\"-------------------\\n\"\n",
    "        f\"Winner: {winner}\\n\"\n",
    "        f\"-------------------\\n\"\n",
    "    )\n",
    "    print(winning_candidate_summary)\n",
    "   \n",
    "    txt_file.write(winning_candidate_summary)\n",
    "\n"
   ]
  }
 ],
 "metadata": {
  "kernelspec": {
   "display_name": "Python 3 (ipykernel)",
   "language": "python",
   "name": "python3"
  },
  "language_info": {
   "codemirror_mode": {
    "name": "ipython",
    "version": 3
   },
   "file_extension": ".py",
   "mimetype": "text/x-python",
   "name": "python",
   "nbconvert_exporter": "python",
   "pygments_lexer": "ipython3",
   "version": "3.11.4"
  }
 },
 "nbformat": 4,
 "nbformat_minor": 5
}
